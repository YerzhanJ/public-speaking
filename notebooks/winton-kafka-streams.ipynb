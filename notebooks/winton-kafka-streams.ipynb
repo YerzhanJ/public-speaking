{
 "cells": [
  {
   "cell_type": "markdown",
   "metadata": {},
   "source": [
    "## Winton Kafka Streams"
   ]
  },
  {
   "cell_type": "code",
   "execution_count": 1,
   "metadata": {},
   "outputs": [],
   "source": [
    "import sys\n",
    "sys.path.insert(0, '/home/mario/git/winton-kafka-streams/')"
   ]
  },
  {
   "cell_type": "code",
   "execution_count": 2,
   "metadata": {},
   "outputs": [],
   "source": [
    "import logging\n",
    "import time\n",
    "from collections import deque\n",
    "import pandas as pd\n",
    "\n",
    "from winton_kafka_streams.processor import BaseProcessor, TopologyBuilder\n",
    "from winton_kafka_streams.state.simple import SimpleStore\n",
    "import winton_kafka_streams.kafka_config as kafka_config\n",
    "import winton_kafka_streams.kafka_streams as kafka_streams\n",
    "import winton_kafka_streams.state as kafka_store"
   ]
  },
  {
   "cell_type": "markdown",
   "metadata": {},
   "source": [
    "Configuration"
   ]
  },
  {
   "cell_type": "code",
   "execution_count": 3,
   "metadata": {},
   "outputs": [],
   "source": [
    "car_events_topic = 'car'\n",
    "weather_topic = 'weather'\n",
    "logging.basicConfig(level=logging.INFO)\n",
    "kafka_config.AUTO_OFFSET_RESET = 'latest'\n",
    "short_window = 1 # minutes\n",
    "long_window = 10 # minutes"
   ]
  },
  {
   "cell_type": "markdown",
   "metadata": {},
   "source": [
    "Loading points DB"
   ]
  },
  {
   "cell_type": "code",
   "execution_count": 4,
   "metadata": {},
   "outputs": [],
   "source": [
    "points_db = pd.read_csv('road_points.csv').set_index('point_id')\n",
    "points_db['point_id'] = points_db.index"
   ]
  },
  {
   "cell_type": "markdown",
   "metadata": {},
   "source": [
    "JSON deserializer"
   ]
  },
  {
   "cell_type": "code",
   "execution_count": 5,
   "metadata": {},
   "outputs": [],
   "source": [
    "import json\n",
    "\n",
    "class ReadJson(BaseProcessor):\n",
    "    def process(self, key, value):\n",
    "        self.context.forward(key, json.loads(value))"
   ]
  },
  {
   "cell_type": "markdown",
   "metadata": {},
   "source": [
    "Weather state management"
   ]
  },
  {
   "cell_type": "code",
   "execution_count": 6,
   "metadata": {},
   "outputs": [],
   "source": [
    "class UpdateState(BaseProcessor):\n",
    "    def initialise(self, name, context):\n",
    "        super(UpdateState, self).initialise(name, context)\n",
    "        self.store = context.get_store('weather_store')\n",
    "    \n",
    "    def process(self, key, value):\n",
    "        self.store.update_weather(key.decode('ascii'), value)\n",
    "         \n",
    "class WeatherStore:\n",
    "    def __init__(self, name):\n",
    "        self.data = {}\n",
    "        \n",
    "    def update_weather(self, station, results):\n",
    "        self.data[station] = results\n",
    "        logging.debug(f\"Weather info for {station} updated (got {len(self.data)} so far)!\")\n",
    "        \n",
    "    def initialized(self):\n",
    "        return len(self.data) > 0\n",
    "        \n",
    "    def get_current(self):\n",
    "        return pd.DataFrame(list(self.data.values())).set_index('station')"
   ]
  },
  {
   "cell_type": "markdown",
   "metadata": {},
   "source": [
    "Cars events processor"
   ]
  },
  {
   "cell_type": "code",
   "execution_count": 7,
   "metadata": {},
   "outputs": [],
   "source": [
    "class ProcessLoopEvent(BaseProcessor):\n",
    "    def initialise(self, name, context):\n",
    "        super(ProcessLoopEvent, self).initialise(name, context)\n",
    "        self.context.schedule(short_window * 60)\n",
    "        self.datastore = deque(maxlen=long_window) # deque of 10 short windows\n",
    "        self.datastore.append([])\n",
    "        \n",
    "    def punctuate(self, timestamp):\n",
    "        short_window_data = self.datastore[-1]\n",
    "        long_window_data = [item for sublist in self.datastore for item in sublist]\n",
    "        self.context.forward(None, json.dumps((short_window_data, long_window_data)))\n",
    "        self.datastore.append([])\n",
    "    \n",
    "    def process(self, key, value):\n",
    "        self.datastore[-1].append(value)\n",
    "                \n",
    "class CalculateStatsAndJoin(BaseProcessor):\n",
    "    def stats(self, df, label):\n",
    "        result = df.groupby('point_id').agg({'speed': ['mean', 'count'], 'gap_meters': ['mean', 'min']})\n",
    "        result.columns = ['%d_%s' % (label, stat) for stat in ['avg_speed', 'num_cars', 'avg_gap', 'min_gap']]\n",
    "        return result\n",
    "\n",
    "    def compute_model(self, short_window_data, long_window_data):\n",
    "        if len(short_window_data) == 0 or len(long_window_data) == 0:\n",
    "            return \"empty loop windows\"\n",
    "        \n",
    "        if not self.context.get_store('weather_store').initialized():\n",
    "            return \"initializing\"\n",
    "        \n",
    "        one_minute_stats = self.stats(pd.DataFrame(short_window_data), short_window)\n",
    "        ten_minutes_stats = self.stats(pd.DataFrame(long_window_data), long_window)\n",
    "        joined_windows = ten_minutes_stats.join(one_minute_stats, how='left')\n",
    "        result = joined_windows.join(points_db).set_index('nearest_weather_station') \\\n",
    "            .join(self.context.get_store('weather_store').get_current()).set_index('point_id')\n",
    "\n",
    "        return result['10_num_cars'].to_dict()\n",
    "    \n",
    "    def process(self, key, value):\n",
    "        value = json.loads(value)\n",
    "        print(self.compute_model(value[0], value[1]))"
   ]
  },
  {
   "cell_type": "markdown",
   "metadata": {},
   "source": [
    "Build topology and stream!"
   ]
  },
  {
   "cell_type": "code",
   "execution_count": 8,
   "metadata": {},
   "outputs": [
    {
     "name": "stderr",
     "output_type": "stream",
     "text": [
      "INFO:winton_kafka_streams.processor._stream_thread(Thread-4):Topics for consumer are: ['car', 'weather']\n",
      "INFO:winton_kafka_streams.processor._stream_thread(Thread-4):State transition from NOT_RUNNING to RUNNING.\n",
      "INFO:winton_kafka_streams.kafka_streams:State transition from CREATED to RUNNING.\n"
     ]
    }
   ],
   "source": [
    "with TopologyBuilder() as topology_builder:\n",
    "        topology_builder \\\n",
    "            .source('loop-event-json', [car_events_topic]) \\\n",
    "            .source('weather-event-json', [weather_topic]) \\\n",
    "            .state_store('weather_store', WeatherStore, 'weather', 'stats') \\\n",
    "            .processor('weather-event', ReadJson, 'weather-event-json') \\\n",
    "            .processor('weather', UpdateState, 'weather-event') \\\n",
    "            .processor('loop-event', ReadJson, 'loop-event-json') \\\n",
    "            .processor('loops-windows', ProcessLoopEvent, 'loop-event') \\\n",
    "            .processor('stats', CalculateStatsAndJoin, 'loops-windows')\n",
    "\n",
    "wks = kafka_streams.KafkaStreams(topology_builder, kafka_config)\n",
    "wks.start()"
   ]
  },
  {
   "cell_type": "code",
   "execution_count": 9,
   "metadata": {},
   "outputs": [
    {
     "name": "stderr",
     "output_type": "stream",
     "text": [
      "WARNING:winton_kafka_streams.processor._stream_thread(Thread-4):Unexpected state transition from RUNNING to ASSIGNING_PARTITIONS.\n",
      "INFO:winton_kafka_streams.kafka_streams:State transition from RUNNING to REBALANCING.\n",
      "INFO:winton_kafka_streams.processor._stream_thread(Thread-4):State transition from ASSIGNING_PARTITIONS to RUNNING.\n",
      "INFO:winton_kafka_streams.kafka_streams:State transition from REBALANCING to RUNNING.\n"
     ]
    },
    {
     "name": "stdout",
     "output_type": "stream",
     "text": [
      "initializing\n",
      "{1: 21039, 3: 20502, 2: 20634}\n",
      "{1: 41678, 3: 40893, 2: 40893}\n",
      "{1: 62428, 3: 61589, 2: 61548}\n",
      "{1: 82941, 3: 81956, 2: 81875}\n",
      "{1: 103451, 3: 102630, 2: 102429}\n"
     ]
    }
   ],
   "source": [
    "# wks.close()"
   ]
  }
 ],
 "metadata": {
  "kernelspec": {
   "display_name": "Python 3",
   "language": "python",
   "name": "python3"
  },
  "language_info": {
   "codemirror_mode": {
    "name": "ipython",
    "version": 3
   },
   "file_extension": ".py",
   "mimetype": "text/x-python",
   "name": "python",
   "nbconvert_exporter": "python",
   "pygments_lexer": "ipython3",
   "version": "3.6.3"
  }
 },
 "nbformat": 4,
 "nbformat_minor": 2
}
