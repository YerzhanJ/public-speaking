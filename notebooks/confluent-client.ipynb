{
 "cells": [
  {
   "cell_type": "markdown",
   "metadata": {},
   "source": [
    "## Raw client (from Confluent)"
   ]
  },
  {
   "cell_type": "code",
   "execution_count": null,
   "metadata": {},
   "outputs": [],
   "source": [
    "from confluent_kafka import Consumer, KafkaError, Message\n",
    "import pandas as pd\n",
    "import json"
   ]
  },
  {
   "cell_type": "markdown",
   "metadata": {},
   "source": [
    "Consumer configuration"
   ]
  },
  {
   "cell_type": "code",
   "execution_count": null,
   "metadata": {},
   "outputs": [],
   "source": [
    "client_configuration = {\n",
    "    'metadata.broker.list': 'localhost:9092', \n",
    "    'group.id': 'confluent_client_consumer', \n",
    "    'auto.offset.reset': 'latest'}\n",
    "car_events_topic = 'car'\n",
    "weather_topic = 'weather'\n",
    "short_window = 1 # minutes\n",
    "long_window = 10 # minutes"
   ]
  },
  {
   "cell_type": "markdown",
   "metadata": {},
   "source": [
    "Weather state object - holds the newest weather state"
   ]
  },
  {
   "cell_type": "code",
   "execution_count": null,
   "metadata": {},
   "outputs": [],
   "source": [
    "class WeatherState:\n",
    "    def __init__(self):\n",
    "        self.state = {}\n",
    "        \n",
    "    def update(self, key, value):\n",
    "        self.state[key] = value\n",
    "        \n",
    "    def get_current_data(self):\n",
    "        return pd.DataFrame(list(self.state.values())).set_index('station')\n",
    "        \n",
    "weather_state = WeatherState()"
   ]
  },
  {
   "cell_type": "markdown",
   "metadata": {},
   "source": [
    "LoopEventsWindows - performs windowing on loop events"
   ]
  },
  {
   "cell_type": "code",
   "execution_count": null,
   "metadata": {},
   "outputs": [],
   "source": [
    "from collections import deque\n",
    "import pandas as pd\n",
    "import time\n",
    "\n",
    "class LoopEventsWindows:\n",
    "    def __init__(self, windows):\n",
    "        self.deque = deque()\n",
    "        self.windows = windows\n",
    "        self.timestamp_field = 'timestamp_out_2'\n",
    "        self.ts = 0\n",
    "        \n",
    "    def indicate(self, key, event):\n",
    "        self.ts = event['timestamp_out_2']\n",
    "        \n",
    "    def loop_event(self, event):\n",
    "        self.deque.append(event)\n",
    "    \n",
    "    def generate_windows(self):\n",
    "        self.clean_deque(time.time() - max(self.windows))\n",
    "        if len(self.deque) == 0:\n",
    "            return None\n",
    "        return self.get_windows()\n",
    "    \n",
    "    def clean_deque(self, min_time):\n",
    "        while len(self.deque) > 0 and self.deque[0][self.timestamp_field] < min_time:\n",
    "            self.deque.popleft()\n",
    "            \n",
    "    def get_windows(self):\n",
    "        current_time = time.time()\n",
    "        data = pd.DataFrame(list(self.deque))\n",
    "        ts_field = data[self.timestamp_field]\n",
    "        return { \n",
    "            str(window): data[\n",
    "                (ts_field >= current_time - window) & \n",
    "                (ts_field <= current_time)\n",
    "            ] for window in self.windows }\n",
    "    \n",
    "window_manager = LoopEventsWindows([long_window * 60, short_window * 60 ])"
   ]
  },
  {
   "cell_type": "markdown",
   "metadata": {},
   "source": [
    "Data join and model calculation (in separate thread, every 1 second)"
   ]
  },
  {
   "cell_type": "code",
   "execution_count": null,
   "metadata": {},
   "outputs": [],
   "source": [
    "import threading\n",
    "\n",
    "def stats(windows, label):\n",
    "    result = windows[str(label * 60)].groupby('point_id') \\\n",
    "        .agg({'speed': ['mean', 'count'], 'gap_meters': ['mean', 'min']})\n",
    "    result.columns = ['%d_%s' % (label, stat) for stat in ['avg_speed', 'num_cars', 'avg_gap', 'min_gap']]\n",
    "    return result\n",
    "\n",
    "def compute_model():\n",
    "    threading.Timer(short_window * 60, compute_model).start()\n",
    "    windows = window_manager.generate_windows()\n",
    "    if not windows:\n",
    "        return\n",
    "    \n",
    "    one_minute_stats = stats(windows, short_window)\n",
    "    ten_minutes_stats = stats(windows, long_window)\n",
    "    joined_windows = ten_minutes_stats.join(one_minute_stats, how='left')\n",
    "    points_db = pd.read_csv('road_points.csv').set_index('point_id')\n",
    "    points_db['point_id'] = points_db.index\n",
    "    result = joined_windows.join(points_db).set_index('nearest_weather_station') \\\n",
    "        .join(weather_state.get_current_data()).set_index('point_id')\n",
    "    \n",
    "    # here goes the ML\n",
    "    print(result['10_num_cars'].to_dict())\n",
    "\n",
    "compute_model()"
   ]
  },
  {
   "cell_type": "markdown",
   "metadata": {},
   "source": [
    "Streaming start"
   ]
  },
  {
   "cell_type": "code",
   "execution_count": null,
   "metadata": {},
   "outputs": [],
   "source": [
    "load_key = lambda key: key.decode('ascii')\n",
    "load_value = lambda value: json.loads(value.decode('ascii'))\n",
    "consumer = Consumer(client_configuration)\n",
    "consumer.subscribe([weather_topic, car_events_topic])\n",
    "\n",
    "while True:\n",
    "    msg = consumer.poll()\n",
    "    if msg.error():\n",
    "        if msg.error().code() == KafkaError._PARTITION_EOF:\n",
    "            continue\n",
    "        else:\n",
    "            print(msg.error())\n",
    "            time.sleep(0.1)\n",
    "    if msg.topic() == weather_topic:\n",
    "        weather_state.update(load_key(msg.key()), load_value(msg.value()))\n",
    "    elif msg.topic() == car_events_topic:\n",
    "        window_manager.loop_event(load_value(msg.value()))"
   ]
  },
  {
   "cell_type": "code",
   "execution_count": null,
   "metadata": {},
   "outputs": [],
   "source": [
    "# consumer.close()"
   ]
  }
 ],
 "metadata": {
  "kernelspec": {
   "display_name": "Python 3",
   "language": "python",
   "name": "python3"
  },
  "language_info": {
   "codemirror_mode": {
    "name": "ipython",
    "version": 3
   },
   "file_extension": ".py",
   "mimetype": "text/x-python",
   "name": "python",
   "nbconvert_exporter": "python",
   "pygments_lexer": "ipython3",
   "version": "3.6.3"
  }
 },
 "nbformat": 4,
 "nbformat_minor": 2
}
